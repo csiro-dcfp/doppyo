{
 "cells": [
  {
   "cell_type": "markdown",
   "metadata": {},
   "source": [
    "# Check that data loading routine is correctly pulling and stacking data"
   ]
  },
  {
   "cell_type": "markdown",
   "metadata": {},
   "source": [
    "#### Import pyLatte package"
   ]
  },
  {
   "cell_type": "code",
   "execution_count": 1,
   "metadata": {},
   "outputs": [],
   "source": [
    "from pylatte import utils\n",
    "from pylatte import skill"
   ]
  },
  {
   "cell_type": "markdown",
   "metadata": {},
   "source": [
    "#### Currently, the following packages are required to load the data - this process will be replaced by the CAFE cookbook"
   ]
  },
  {
   "cell_type": "code",
   "execution_count": 2,
   "metadata": {},
   "outputs": [],
   "source": [
    "import numpy as np\n",
    "import pandas as pd\n",
    "import xarray as xr"
   ]
  },
  {
   "cell_type": "markdown",
   "metadata": {},
   "source": [
    "#### Import some plotting packages and widgets"
   ]
  },
  {
   "cell_type": "code",
   "execution_count": 3,
   "metadata": {},
   "outputs": [],
   "source": [
    "import matplotlib.pyplot as plt\n",
    "import warnings    \n",
    "warnings.filterwarnings(\"ignore\")\n",
    "\n",
    "# Jupyter specific -----\n",
    "from ipywidgets import FloatProgress\n",
    "%matplotlib inline"
   ]
  },
  {
   "cell_type": "markdown",
   "metadata": {},
   "source": [
    "# Construct xarray objects for forecasts and observations\n",
    "(The CAFE cookbook should replace many of these code blocks)"
   ]
  },
  {
   "cell_type": "code",
   "execution_count": 5,
   "metadata": {},
   "outputs": [],
   "source": [
    "# Initial dates to include (takes approximately 1 min 30 sec per date) -----\n",
    "init_dates = pd.date_range('2003-1','2003-6' , freq='1MS')\n",
    "\n",
    "# Ensembles to include -----\n",
    "ensembles = range(1,12)\n",
    "\n",
    "# Forecast length -----\n",
    "FCST_LENGTH = 2 # years"
   ]
  },
  {
   "cell_type": "markdown",
   "metadata": {},
   "source": [
    "# Temperature"
   ]
  },
  {
   "cell_type": "code",
   "execution_count": null,
   "metadata": {},
   "outputs": [],
   "source": [
    "# Location of forecast data -----\n",
    "fcst_folder = '/OSM/CBR/OA_DCFP/data/model_output/CAFE/forecasts/v1/'\n",
    "fcst_filename = 'atmos_daily*'\n",
    "fcst_variable = 'temp'\n",
    "\n",
    "# Location of observation data -----\n",
    "obsv_folder = '/OSM/CBR/OA_DCFP/data/observations/jra55/isobaric/011_tmp/cat/'\n",
    "obsv_filename = 'jra.55.tmp.1000.1958010100_2016123118.nc'\n",
    "obsv_variable = 'TMP_GDS0_ISBL'"
   ]
  },
  {
   "cell_type": "markdown",
   "metadata": {},
   "source": [
    "### Test forecasts "
   ]
  },
  {
   "cell_type": "code",
   "execution_count": 50,
   "metadata": {},
   "outputs": [
    {
     "data": {
      "application/vnd.jupyter.widget-view+json": {
       "model_id": "bcd6731bdae4466b86a6313e34d1378e",
       "version_major": 2,
       "version_minor": 0
      },
      "text/html": [
       "<p>Failed to display Jupyter Widget of type <code>FloatProgress</code>.</p>\n",
       "<p>\n",
       "  If you're reading this message in the Jupyter Notebook or JupyterLab Notebook, it may mean\n",
       "  that the widgets JavaScript is still loading. If this message persists, it\n",
       "  likely means that the widgets JavaScript library is either not installed or\n",
       "  not enabled. See the <a href=\"https://ipywidgets.readthedocs.io/en/stable/user_install.html\">Jupyter\n",
       "  Widgets Documentation</a> for setup instructions.\n",
       "</p>\n",
       "<p>\n",
       "  If you're reading this message in another frontend (for example, a static\n",
       "  rendering on GitHub or <a href=\"https://nbviewer.jupyter.org/\">NBViewer</a>),\n",
       "  it may mean that your frontend doesn't currently support widgets.\n",
       "</p>\n"
      ],
      "text/plain": [
       "FloatProgress(value=0.0, description='Loading...', max=66.0)"
      ]
     },
     "metadata": {},
     "output_type": "display_data"
    }
   ],
   "source": [
    "# Instantiate progress bar -----\n",
    "f = FloatProgress(min=0, max=len(init_dates)*len(ensembles), description='Loading...') \n",
    "display(f)\n",
    "\n",
    "# Loop over initial dates -----\n",
    "fcst_list = []\n",
    "for init_date in init_dates:\n",
    "    year = init_date.year\n",
    "    month = init_date.month\n",
    "    \n",
    "    # Loop over ensembles -----\n",
    "    ens_list = []\n",
    "    for ensemble in ensembles:\n",
    "        # Signal to increment the progress bar -----\n",
    "        f.value += 1 \n",
    "        \n",
    "        # Stack ensembles into a list -----\n",
    "        path = fcst_folder + '/yr' + str(year) + '/mn' + str(month) + \\\n",
    "               '/OUTPUT.' + str(ensemble) + '/' + fcst_filename + '.nc'\n",
    "        dataset = xr.open_mfdataset(path, autoclose=True)[fcst_variable]\n",
    "        ens_list.append(dataset.resample(time=resample_freq) \\\n",
    "                               .mean(dim='time'))\n",
    "        \n",
    "    # Concatenate ensembles -----\n",
    "    ens_object = xr.concat(ens_list, dim='ensemble')\n",
    "    ens_object['ensemble'] = ensembles\n",
    "    \n",
    "    # Stack concatenated ensembles into a list for each initial date -----                       \n",
    "    fcst_list.append(utils.datetime_to_leadtime(ens_object))\n",
    "\n",
    "# Keep track of the lead time for each initialization -----\n",
    "n_lead_time = [len(x.lead_time) for x in fcst_list]\n",
    "\n",
    "# Concatenate initial dates -----\n",
    "da_fcst = xr.concat(fcst_list, dim='init_date')\n",
    "\n",
    "# Rechunk for chunksizes of at least 1,000,000 elements -----\n",
    "da_fcst = utils.prune(da_fcst.chunk(chunks={'ensemble' : len(da_fcst.ensemble), \n",
    "                                            'lead_time' : len(da_fcst.lead_time)}).squeeze())\n",
    "\n",
    "# Truncate forecasts at FCST_LENGTH -----\n",
    "max_increments = FCST_LENGTH * 12\n",
    "n_trunc = max([i for i in n_lead_time if i <= max_increments])\n",
    "da_fcst = da_fcst.isel(lead_time=range(n_trunc))"
   ]
  },
  {
   "cell_type": "markdown",
   "metadata": {},
   "source": [
    "#### Reload data for random initial date and ensemble and compare to the stacked data"
   ]
  },
  {
   "cell_type": "code",
   "execution_count": 84,
   "metadata": {
    "scrolled": true
   },
   "outputs": [
    {
     "name": "stdout",
     "output_type": "stream",
     "text": [
      "Initial date: 3, 2003\n",
      "Ensemble number: 2\n",
      "Data are the same: True\n"
     ]
    }
   ],
   "source": [
    "import random\n",
    "\n",
    "date_int = random.randint(0,len(init_dates)-1)\n",
    "ens_int = random.randint(0,len(ensembles)-1)\n",
    "\n",
    "init_date_use = init_dates[date_int]\n",
    "ensemble_use = ensembles[ens_int]\n",
    "\n",
    "# Load and compare -----\n",
    "year = init_date_use.year\n",
    "month = init_date_use.month\n",
    "ensemble = ensemble_use\n",
    "print(f'Initial date: {month}, {year}')\n",
    "print(f'Ensemble number: {ensemble}')\n",
    "\n",
    "# Stack ensembles into a list -----\n",
    "path = fcst_folder + '/yr' + str(year) + '/mn' + str(month) + \\\n",
    "       '/OUTPUT.' + str(ensemble) + '/' + fcst_filename + '.nc'\n",
    "\n",
    "data_test = xr.open_mfdataset(path, autoclose=True)[fcst_variable]\n",
    "\n",
    "fcst_A = da_fcst.isel(init_date=[date_int], ensemble = [ens_int]).squeeze()\n",
    "fcst_B = data_test.resample(time='MS').mean(dim='time').isel(time=range(n_trunc))\n",
    "\n",
    "print(f'Data are the same: {np.all(fcst_A.values == fcst_B.values)}')"
   ]
  },
  {
   "cell_type": "markdown",
   "metadata": {},
   "source": [
    "### Test observations"
   ]
  },
  {
   "cell_type": "code",
   "execution_count": 85,
   "metadata": {},
   "outputs": [
    {
     "data": {
      "application/vnd.jupyter.widget-view+json": {
       "model_id": "3e5b38b2fa464d97b15aab81a2fe9ef0",
       "version_major": 2,
       "version_minor": 0
      },
      "text/html": [
       "<p>Failed to display Jupyter Widget of type <code>FloatProgress</code>.</p>\n",
       "<p>\n",
       "  If you're reading this message in the Jupyter Notebook or JupyterLab Notebook, it may mean\n",
       "  that the widgets JavaScript is still loading. If this message persists, it\n",
       "  likely means that the widgets JavaScript library is either not installed or\n",
       "  not enabled. See the <a href=\"https://ipywidgets.readthedocs.io/en/stable/user_install.html\">Jupyter\n",
       "  Widgets Documentation</a> for setup instructions.\n",
       "</p>\n",
       "<p>\n",
       "  If you're reading this message in another frontend (for example, a static\n",
       "  rendering on GitHub or <a href=\"https://nbviewer.jupyter.org/\">NBViewer</a>),\n",
       "  it may mean that your frontend doesn't currently support widgets.\n",
       "</p>\n"
      ],
      "text/plain": [
       "FloatProgress(value=0.0, description='Loading...', max=1.0)"
      ]
     },
     "metadata": {},
     "output_type": "display_data"
    }
   ],
   "source": [
    "# Instantiate progress bar -----\n",
    "f = FloatProgress(min=0, max=1, description='Loading...') \n",
    "display(f)\n",
    "\n",
    "# JRA temperature fields are only save in a time-concatenated form -----\n",
    "path = obsv_folder + obsv_filename\n",
    "dataset = xr.open_mfdataset(path, autoclose=True)[obsv_variable]\n",
    "da_obsv = dataset.rename(fcst_variable) \\\n",
    "                 .rename({'initial_time0_hours' : 'time', 'g0_lon_3' : 'lon', 'g0_lat_2' : 'lat'}) \\\n",
    "                 .resample(time=resample_freq) \\\n",
    "                 .mean(dim='time')\n",
    "\n",
    "# Stack by initial date to match forecast structure -----\n",
    "da_obsv = utils.stack_by_init_date(da_obsv,da_fcst.init_date.values,n_trunc)\n",
    "f.value += 1\n",
    "\n",
    "# Average over forecast dimension if it is exists -----\n",
    "if 'forecast_time1' in da_obsv.coords:\n",
    "    da_obsv = da_obsv.mean(dim='forecast_time1')\n",
    "\n",
    "# Rechunk for chunksizes of at least 1,000,000 elements -----\n",
    "da_obsv = utils.prune(da_obsv.chunk(chunks={'init_date' : len(da_obsv.init_date)}).squeeze())"
   ]
  },
  {
   "cell_type": "markdown",
   "metadata": {},
   "source": [
    "#### Reload data for random initial date and ensemble and compare to the stacked data"
   ]
  },
  {
   "cell_type": "code",
   "execution_count": 86,
   "metadata": {},
   "outputs": [
    {
     "name": "stdout",
     "output_type": "stream",
     "text": [
      "Initial date: 6, 2003\n",
      "Data are the same: True\n"
     ]
    }
   ],
   "source": [
    "import random\n",
    "\n",
    "date_int = random.randint(0,len(init_dates)-1)\n",
    "\n",
    "init_date_use = init_dates[date_int]\n",
    "print(f'Initial date: {init_date_use.month}, {init_date_use.year}')\n",
    "\n",
    "data_test = dataset.rename(fcst_variable) \\\n",
    "                   .rename({'initial_time0_hours' : 'time', 'g0_lon_3' : 'lon', 'g0_lat_2' : 'lat'}) \\\n",
    "                   .resample(time='MS').mean(dim='time')\n",
    "\n",
    "date_start = str(da_obsv.init_date[date_int].values)\n",
    "date_end = str(utils.month_delta(date_start,23))\n",
    "\n",
    "obsv_A = da_obsv.isel(init_date=[date_int]).squeeze()\n",
    "obsv_B = data_test.sel(time = slice(date_start, date_end)).squeeze()\n",
    "\n",
    "print(f'Data are the same: {np.all(obsv_A.values == obsv_B.values)}')"
   ]
  },
  {
   "cell_type": "markdown",
   "metadata": {},
   "source": [
    "# Precipitation"
   ]
  },
  {
   "cell_type": "code",
   "execution_count": 89,
   "metadata": {},
   "outputs": [],
   "source": [
    "# Location of forecast data -----\n",
    "fcst_folder = '/OSM/CBR/OA_DCFP/data/model_output/CAFE/forecasts/v1/'\n",
    "fcst_filename = 'atmos_daily*'\n",
    "fcst_variable = 'precip'\n",
    "\n",
    "# Location of observation data -----\n",
    "obsv_folder = '/OSM/CBR/OA_DCFP/data/observations/jra55/isobaric/061_tprat/cat/'\n",
    "obsv_filename = 'jra.55.tprat.000.1958010100_2016123121.nc'\n",
    "obsv_variable = 'TPRAT_GDS0_SFC_ave3h'"
   ]
  },
  {
   "cell_type": "markdown",
   "metadata": {},
   "source": [
    "### Test forecasts "
   ]
  },
  {
   "cell_type": "code",
   "execution_count": 90,
   "metadata": {},
   "outputs": [
    {
     "data": {
      "application/vnd.jupyter.widget-view+json": {
       "model_id": "87f6a6c9c78c425cb7a82477d28cf86f",
       "version_major": 2,
       "version_minor": 0
      },
      "text/html": [
       "<p>Failed to display Jupyter Widget of type <code>FloatProgress</code>.</p>\n",
       "<p>\n",
       "  If you're reading this message in the Jupyter Notebook or JupyterLab Notebook, it may mean\n",
       "  that the widgets JavaScript is still loading. If this message persists, it\n",
       "  likely means that the widgets JavaScript library is either not installed or\n",
       "  not enabled. See the <a href=\"https://ipywidgets.readthedocs.io/en/stable/user_install.html\">Jupyter\n",
       "  Widgets Documentation</a> for setup instructions.\n",
       "</p>\n",
       "<p>\n",
       "  If you're reading this message in another frontend (for example, a static\n",
       "  rendering on GitHub or <a href=\"https://nbviewer.jupyter.org/\">NBViewer</a>),\n",
       "  it may mean that your frontend doesn't currently support widgets.\n",
       "</p>\n"
      ],
      "text/plain": [
       "FloatProgress(value=0.0, description='Loading...', max=66.0)"
      ]
     },
     "metadata": {},
     "output_type": "display_data"
    }
   ],
   "source": [
    "# Instantiate progress bar -----\n",
    "f = FloatProgress(min=0, max=len(init_dates)*len(ensembles), description='Loading...') \n",
    "display(f)\n",
    "\n",
    "# Loop over initial dates -----\n",
    "fcst_list = []\n",
    "for init_date in init_dates:\n",
    "    year = init_date.year\n",
    "    month = init_date.month\n",
    "    \n",
    "    # Loop over ensembles -----\n",
    "    ens_list = []\n",
    "    for ensemble in ensembles:\n",
    "        # Signal to increment the progress bar -----\n",
    "        f.value += 1 \n",
    "        \n",
    "        # Stack ensembles into a list -----\n",
    "        path = fcst_folder + '/yr' + str(year) + '/mn' + str(month) + \\\n",
    "               '/OUTPUT.' + str(ensemble) + '/' + fcst_filename + '.nc'\n",
    "        dataset = xr.open_mfdataset(path, autoclose=True)[fcst_variable]\n",
    "        ens_list.append(dataset.resample(time=resample_freq) \\\n",
    "                               .sum(dim='time'))\n",
    "        \n",
    "    # Concatenate ensembles -----\n",
    "    ens_object = xr.concat(ens_list, dim='ensemble')\n",
    "    ens_object['ensemble'] = ensembles\n",
    "    \n",
    "    # Stack concatenated ensembles into a list for each initial date -----                       \n",
    "    fcst_list.append(utils.datetime_to_leadtime(ens_object))\n",
    "\n",
    "# Keep track of the lead time for each initialization -----\n",
    "n_lead_time = [len(x.lead_time) for x in fcst_list]\n",
    "\n",
    "# Concatenate initial dates -----\n",
    "da_fcst = xr.concat(fcst_list, dim='init_date')\n",
    "\n",
    "# Rechunk for chunksizes of at least 1,000,000 elements -----\n",
    "da_fcst = utils.prune(da_fcst.chunk(chunks={'ensemble' : len(da_fcst.ensemble), \n",
    "                                            'lead_time' : len(da_fcst.lead_time)}).squeeze())\n",
    "\n",
    "# Truncate forecasts at FCST_LENGTH -----\n",
    "max_increments = FCST_LENGTH * 12\n",
    "n_trunc = max([i for i in n_lead_time if i <= max_increments])\n",
    "da_fcst = da_fcst.isel(lead_time=range(n_trunc))"
   ]
  },
  {
   "cell_type": "markdown",
   "metadata": {},
   "source": [
    "#### Reload data for random initial date and ensemble and compare to the stacked data"
   ]
  },
  {
   "cell_type": "code",
   "execution_count": 96,
   "metadata": {},
   "outputs": [
    {
     "name": "stdout",
     "output_type": "stream",
     "text": [
      "Initial date: 1, 2003\n",
      "Ensemble number: 4\n",
      "Data are the same: True\n"
     ]
    }
   ],
   "source": [
    "import random\n",
    "\n",
    "date_int = random.randint(0,len(init_dates)-1)\n",
    "ens_int = random.randint(0,len(ensembles)-1)\n",
    "\n",
    "init_date_use = init_dates[date_int]\n",
    "ensemble_use = ensembles[ens_int]\n",
    "\n",
    "# Load and compare -----\n",
    "year = init_date_use.year\n",
    "month = init_date_use.month\n",
    "ensemble = ensemble_use\n",
    "print(f'Initial date: {month}, {year}')\n",
    "print(f'Ensemble number: {ensemble}')\n",
    "\n",
    "# Stack ensembles into a list -----\n",
    "path = fcst_folder + '/yr' + str(year) + '/mn' + str(month) + \\\n",
    "       '/OUTPUT.' + str(ensemble) + '/' + fcst_filename + '.nc'\n",
    "\n",
    "data_test = xr.open_mfdataset(path, autoclose=True)[fcst_variable]\n",
    "\n",
    "fcst_A = da_fcst.isel(init_date=[date_int], ensemble = [ens_int]).squeeze()\n",
    "fcst_B = data_test.resample(time='MS').sum(dim='time').isel(time=range(n_trunc))\n",
    "\n",
    "print(f'Data are the same: {np.all(fcst_A.values == fcst_B.values)}')"
   ]
  },
  {
   "cell_type": "markdown",
   "metadata": {},
   "source": [
    "### Test observations"
   ]
  },
  {
   "cell_type": "code",
   "execution_count": 97,
   "metadata": {},
   "outputs": [
    {
     "data": {
      "application/vnd.jupyter.widget-view+json": {
       "model_id": "41726a357f9f46a1af13b3d48cec5392",
       "version_major": 2,
       "version_minor": 0
      },
      "text/html": [
       "<p>Failed to display Jupyter Widget of type <code>FloatProgress</code>.</p>\n",
       "<p>\n",
       "  If you're reading this message in the Jupyter Notebook or JupyterLab Notebook, it may mean\n",
       "  that the widgets JavaScript is still loading. If this message persists, it\n",
       "  likely means that the widgets JavaScript library is either not installed or\n",
       "  not enabled. See the <a href=\"https://ipywidgets.readthedocs.io/en/stable/user_install.html\">Jupyter\n",
       "  Widgets Documentation</a> for setup instructions.\n",
       "</p>\n",
       "<p>\n",
       "  If you're reading this message in another frontend (for example, a static\n",
       "  rendering on GitHub or <a href=\"https://nbviewer.jupyter.org/\">NBViewer</a>),\n",
       "  it may mean that your frontend doesn't currently support widgets.\n",
       "</p>\n"
      ],
      "text/plain": [
       "FloatProgress(value=0.0, description='Loading...', max=1.0)"
      ]
     },
     "metadata": {},
     "output_type": "display_data"
    }
   ],
   "source": [
    "# Instantiate progress bar -----\n",
    "f = FloatProgress(min=0, max=1, description='Loading...') \n",
    "display(f)\n",
    "\n",
    "# JRA temperature fields are only save in a time-concatenated form -----\n",
    "path = obsv_folder + obsv_filename\n",
    "dataset = xr.open_mfdataset(path, autoclose=True)[obsv_variable]\n",
    "da_obsv = dataset.rename(fcst_variable) \\\n",
    "                 .rename({'initial_time0_hours' : 'time', 'g0_lon_3' : 'lon', 'g0_lat_2' : 'lat'}) \\\n",
    "                 .resample(time=resample_freq) \\\n",
    "                 .sum(dim='time')\n",
    "\n",
    "# Stack by initial date to match forecast structure -----\n",
    "da_obsv = utils.stack_by_init_date(da_obsv,da_fcst.init_date.values,n_trunc)\n",
    "f.value += 1\n",
    "\n",
    "# Average over forecast dimension if it is exists -----\n",
    "if 'forecast_time1' in da_obsv.coords:\n",
    "    da_obsv = da_obsv.mean(dim='forecast_time1')\n",
    "\n",
    "# Rechunk for chunksizes of at least 1,000,000 elements -----\n",
    "da_obsv = utils.prune(da_obsv.chunk(chunks={'init_date' : len(da_obsv.init_date)}).squeeze())"
   ]
  },
  {
   "cell_type": "markdown",
   "metadata": {},
   "source": [
    "#### Reload data for random initial date and ensemble and compare to the stacked data"
   ]
  },
  {
   "cell_type": "code",
   "execution_count": 105,
   "metadata": {},
   "outputs": [
    {
     "name": "stdout",
     "output_type": "stream",
     "text": [
      "Initial date: 1, 2003\n",
      "Data are the same: True\n"
     ]
    }
   ],
   "source": [
    "import random\n",
    "\n",
    "date_int = random.randint(0,len(init_dates)-1)\n",
    "\n",
    "init_date_use = init_dates[date_int]\n",
    "print(f'Initial date: {init_date_use.month}, {init_date_use.year}')\n",
    "\n",
    "data_test = dataset.rename(fcst_variable) \\\n",
    "                   .rename({'initial_time0_hours' : 'time', 'g0_lon_3' : 'lon', 'g0_lat_2' : 'lat'}) \\\n",
    "                   .resample(time='MS').sum(dim='time')\n",
    "\n",
    "date_start = str(da_obsv.init_date[date_int].values)\n",
    "date_end = str(utils.month_delta(date_start,23))\n",
    "\n",
    "obsv_A = da_obsv.isel(init_date=[date_int]).squeeze()\n",
    "obsv_B = data_test.sel(time = slice(date_start, date_end)).mean(dim='forecast_time1').squeeze()\n",
    "\n",
    "print(f'Data are the same: {np.all(obsv_A.values == obsv_B.values)}')"
   ]
  }
 ],
 "metadata": {
  "kernelspec": {
   "display_name": "Python [conda env:pylatte_env]",
   "language": "python",
   "name": "conda-env-pylatte_env-py"
  },
  "language_info": {
   "codemirror_mode": {
    "name": "ipython",
    "version": 3
   },
   "file_extension": ".py",
   "mimetype": "text/x-python",
   "name": "python",
   "nbconvert_exporter": "python",
   "pygments_lexer": "ipython3",
   "version": "3.6.4"
  }
 },
 "nbformat": 4,
 "nbformat_minor": 2
}
