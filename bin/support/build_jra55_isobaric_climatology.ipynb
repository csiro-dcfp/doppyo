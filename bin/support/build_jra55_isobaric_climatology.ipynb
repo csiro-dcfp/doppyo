{
 "cells": [
  {
   "cell_type": "markdown",
   "metadata": {},
   "source": [
    "# This notebook saves jra55 daily climatologies in a single dataset"
   ]
  },
  {
   "cell_type": "markdown",
   "metadata": {},
   "source": [
    "#### IMPORTANT: If adapting this code to save other climatologies, be careful to only include full years, as pyLatte will compute monthly climatologies from the saved daily climatologies"
   ]
  },
  {
   "cell_type": "code",
   "execution_count": 12,
   "metadata": {},
   "outputs": [],
   "source": [
    "import pandas as pd\n",
    "import xarray as xr\n",
    "from pylatte import utils"
   ]
  },
  {
   "cell_type": "markdown",
   "metadata": {},
   "source": [
    "#### jra55 details"
   ]
  },
  {
   "cell_type": "code",
   "execution_count": 16,
   "metadata": {},
   "outputs": [
    {
     "data": {
      "text/html": [
       "<div>\n",
       "<style scoped>\n",
       "    .dataframe tbody tr th:only-of-type {\n",
       "        vertical-align: middle;\n",
       "    }\n",
       "\n",
       "    .dataframe tbody tr th {\n",
       "        vertical-align: top;\n",
       "    }\n",
       "\n",
       "    .dataframe thead th {\n",
       "        text-align: right;\n",
       "    }\n",
       "</style>\n",
       "<table border=\"1\" class=\"dataframe\">\n",
       "  <thead>\n",
       "    <tr style=\"text-align: right;\">\n",
       "      <th></th>\n",
       "      <th>fcn_p</th>\n",
       "      <th>fcst</th>\n",
       "      <th>fldname</th>\n",
       "      <th>flename</th>\n",
       "      <th>lat_jra</th>\n",
       "      <th>lon_jra</th>\n",
       "      <th>name_jra</th>\n",
       "      <th>name_std</th>\n",
       "    </tr>\n",
       "  </thead>\n",
       "  <tbody>\n",
       "    <tr>\n",
       "      <th>0</th>\n",
       "      <td>False</td>\n",
       "      <td>False</td>\n",
       "      <td>001_pres</td>\n",
       "      <td>jra.55.pres.</td>\n",
       "      <td>g0_lat_1</td>\n",
       "      <td>g0_lon_2</td>\n",
       "      <td>PRES_GDS0_SFC</td>\n",
       "      <td>ps</td>\n",
       "    </tr>\n",
       "    <tr>\n",
       "      <th>1</th>\n",
       "      <td>False</td>\n",
       "      <td>False</td>\n",
       "      <td>002_prmsl</td>\n",
       "      <td>jra.55.prmsl.</td>\n",
       "      <td>g0_lat_1</td>\n",
       "      <td>g0_lon_2</td>\n",
       "      <td>PRMSL_GDS0_MSL</td>\n",
       "      <td>slp</td>\n",
       "    </tr>\n",
       "    <tr>\n",
       "      <th>2</th>\n",
       "      <td>True</td>\n",
       "      <td>False</td>\n",
       "      <td>007_hgt</td>\n",
       "      <td>jra.55.hgt.</td>\n",
       "      <td>g0_lat_2</td>\n",
       "      <td>g0_lon_3</td>\n",
       "      <td>HGT_GDS0_ISBL</td>\n",
       "      <td>gh</td>\n",
       "    </tr>\n",
       "    <tr>\n",
       "      <th>3</th>\n",
       "      <td>True</td>\n",
       "      <td>False</td>\n",
       "      <td>011_tmp</td>\n",
       "      <td>jra.55.tmp.</td>\n",
       "      <td>g0_lat_2</td>\n",
       "      <td>g0_lon_3</td>\n",
       "      <td>TMP_GDS0_ISBL</td>\n",
       "      <td>temp</td>\n",
       "    </tr>\n",
       "    <tr>\n",
       "      <th>4</th>\n",
       "      <td>True</td>\n",
       "      <td>False</td>\n",
       "      <td>033_ugrd</td>\n",
       "      <td>jra.55.ugrd.</td>\n",
       "      <td>g0_lat_2</td>\n",
       "      <td>g0_lon_3</td>\n",
       "      <td>UGRD_GDS0_ISBL</td>\n",
       "      <td>u</td>\n",
       "    </tr>\n",
       "    <tr>\n",
       "      <th>5</th>\n",
       "      <td>True</td>\n",
       "      <td>False</td>\n",
       "      <td>034_vgrd</td>\n",
       "      <td>jra.55.vgrd.</td>\n",
       "      <td>g0_lat_2</td>\n",
       "      <td>g0_lon_3</td>\n",
       "      <td>VGRD_GDS0_ISBL</td>\n",
       "      <td>v</td>\n",
       "    </tr>\n",
       "    <tr>\n",
       "      <th>6</th>\n",
       "      <td>False</td>\n",
       "      <td>True</td>\n",
       "      <td>061_tprat</td>\n",
       "      <td>jra.55.tprat.</td>\n",
       "      <td>g0_lat_2</td>\n",
       "      <td>g0_lon_3</td>\n",
       "      <td>TPRAT_GDS0_SFC_ave3h</td>\n",
       "      <td>precip</td>\n",
       "    </tr>\n",
       "  </tbody>\n",
       "</table>\n",
       "</div>"
      ],
      "text/plain": [
       "   fcn_p   fcst    fldname        flename   lat_jra   lon_jra  \\\n",
       "0  False  False   001_pres   jra.55.pres.  g0_lat_1  g0_lon_2   \n",
       "1  False  False  002_prmsl  jra.55.prmsl.  g0_lat_1  g0_lon_2   \n",
       "2   True  False    007_hgt    jra.55.hgt.  g0_lat_2  g0_lon_3   \n",
       "3   True  False    011_tmp    jra.55.tmp.  g0_lat_2  g0_lon_3   \n",
       "4   True  False   033_ugrd   jra.55.ugrd.  g0_lat_2  g0_lon_3   \n",
       "5   True  False   034_vgrd   jra.55.vgrd.  g0_lat_2  g0_lon_3   \n",
       "6  False   True  061_tprat  jra.55.tprat.  g0_lat_2  g0_lon_3   \n",
       "\n",
       "               name_jra name_std  \n",
       "0         PRES_GDS0_SFC       ps  \n",
       "1        PRMSL_GDS0_MSL      slp  \n",
       "2         HGT_GDS0_ISBL       gh  \n",
       "3         TMP_GDS0_ISBL     temp  \n",
       "4        UGRD_GDS0_ISBL        u  \n",
       "5        VGRD_GDS0_ISBL        v  \n",
       "6  TPRAT_GDS0_SFC_ave3h   precip  "
      ]
     },
     "execution_count": 16,
     "metadata": {},
     "output_type": "execute_result"
    }
   ],
   "source": [
    "jra_folder = '/OSM/CBR/OA_DCFP/data/observations/jra55/isobaric/'\n",
    "fields = pd.DataFrame( \\\n",
    "        {'fldname' : ['001_pres',       '002_prmsl',      '007_hgt',              '011_tmp',       '033_ugrd',\n",
    "                      '034_vgrd',       '061_tprat'],\n",
    "         'flename' : ['jra.55.pres.',   'jra.55.prmsl.',  'jra.55.hgt.',          'jra.55.tmp.',   'jra.55.ugrd.',\n",
    "                      'jra.55.vgrd.',   'jra.55.tprat.'],\n",
    "         'name_jra': ['PRES_GDS0_SFC',  'PRMSL_GDS0_MSL', 'HGT_GDS0_ISBL',        'TMP_GDS0_ISBL', 'UGRD_GDS0_ISBL',\n",
    "                      'VGRD_GDS0_ISBL', 'TPRAT_GDS0_SFC_ave3h'],\n",
    "         'lat_jra' : ['g0_lat_1',       'g0_lat_1',       'g0_lat_2',             'g0_lat_2',      'g0_lat_2',\n",
    "                      'g0_lat_2',       'g0_lat_2'],\n",
    "         'lon_jra' : ['g0_lon_2',       'g0_lon_2',       'g0_lon_3',             'g0_lon_3',      'g0_lon_3',\n",
    "                      'g0_lon_3',       'g0_lon_3'],\n",
    "         'fcn_p'   : [False,             False,           True,                   True,            True,\n",
    "                      True,              False],\n",
    "         'fcst'    : [False,             False,           False,                  False,           False,\n",
    "                      False,             True],\n",
    "         'name_std': ['ps',              'slp',           'gh',                   'temp',          'u',\n",
    "                      'v',               'precip']}\n",
    "                     )\n",
    "fields"
   ]
  },
  {
   "cell_type": "markdown",
   "metadata": {},
   "source": [
    "#### Stack climatologies in a single dataset"
   ]
  },
  {
   "cell_type": "code",
   "execution_count": 26,
   "metadata": {},
   "outputs": [],
   "source": [
    "for idx, row in fields.iterrows():\n",
    "    name_dict = {row['name_jra'] : row['name_std'], \n",
    "                 row['lat_jra'] : 'lat', \n",
    "                 row['lon_jra'] : 'lon',\n",
    "                 'initial_time0_hours' : 'time'}\n",
    "    if row['fcn_p'] == True:\n",
    "        name_dict.update({'lv_ISBL1' : 'pfull'})\n",
    "    \n",
    "    # Load data -----\n",
    "    da = xr.open_mfdataset(jra_folder + row['fldname'] + '/cat/' + row['flename'] + '*' + '.clim.nc', \n",
    "                           concat_dim='lv_ISBL1',\n",
    "                           autoclose=True).rename(name_dict)[row['name_std']]\n",
    "        \n",
    "    # Deal with forecast variables -----\n",
    "    if row['fcst']:\n",
    "        da = da.mean(dim='forecast_time1', keep_attrs=True)\n",
    "        \n",
    "    # Stack in DataSet -----\n",
    "    if idx == 0:\n",
    "        ds = da.to_dataset(name=row['name_std'])\n",
    "    else:\n",
    "        ds[row['name_std']] = da\n",
    "    \n",
    "# Sort pressure levels -----\n",
    "ds = ds.sortby(ds.pfull)\n"
   ]
  },
  {
   "cell_type": "code",
   "execution_count": 27,
   "metadata": {},
   "outputs": [
    {
     "data": {
      "text/plain": [
       "<xarray.Dataset>\n",
       "Dimensions:  (lat: 145, lon: 288, pfull: 37, time: 366)\n",
       "Coordinates:\n",
       "  * lon      (lon) float32 0.0 1.25 2.5 3.75 5.0 6.25 7.5 8.75 10.0 11.25 ...\n",
       "  * lat      (lat) float32 90.0 88.75 87.5 86.25 85.0 83.75 82.5 81.25 80.0 ...\n",
       "  * time     (time) datetime64[ns] 2016-01-01T09:00:00 2016-01-02T09:00:00 ...\n",
       "  * pfull    (pfull) float64 1.0 2.0 3.0 5.0 7.0 10.0 20.0 30.0 50.0 70.0 ...\n",
       "Data variables:\n",
       "    ps       (time, lat, lon) float64 dask.array<shape=(366, 145, 288), chunksize=(366, 145, 288)>\n",
       "    slp      (time, lat, lon) float64 dask.array<shape=(366, 145, 288), chunksize=(366, 145, 288)>\n",
       "    gh       (time, pfull, lat, lon) float64 dask.array<shape=(366, 37, 145, 288), chunksize=(366, 37, 145, 288)>\n",
       "    temp     (time, pfull, lat, lon) float64 dask.array<shape=(366, 37, 145, 288), chunksize=(366, 37, 145, 288)>\n",
       "    u        (time, pfull, lat, lon) float64 dask.array<shape=(366, 37, 145, 288), chunksize=(366, 37, 145, 288)>\n",
       "    v        (time, pfull, lat, lon) float64 dask.array<shape=(366, 37, 145, 288), chunksize=(366, 37, 145, 288)>\n",
       "    precip   (time, lat, lon) float64 dask.array<shape=(366, 145, 288), chunksize=(366, 145, 288)>"
      ]
     },
     "execution_count": 27,
     "metadata": {},
     "output_type": "execute_result"
    }
   ],
   "source": [
    "ds"
   ]
  },
  {
   "cell_type": "code",
   "execution_count": 28,
   "metadata": {},
   "outputs": [],
   "source": [
    "savename = 'jra.isobaric.1958010100_2016123118.clim.nc'\n",
    "ds.to_netcdf(path='/OSM/CBR/OA_DCFP/data/intermediate_products/pylatte_climatologies/' + savename, \n",
    "             mode='w',\n",
    "             format='NETCDF4')           "
   ]
  },
  {
   "cell_type": "code",
   "execution_count": null,
   "metadata": {},
   "outputs": [],
   "source": []
  }
 ],
 "metadata": {
  "kernelspec": {
   "display_name": "Python [conda env:pylatte_env]",
   "language": "python",
   "name": "conda-env-pylatte_env-py"
  },
  "language_info": {
   "codemirror_mode": {
    "name": "ipython",
    "version": 3
   },
   "file_extension": ".py",
   "mimetype": "text/x-python",
   "name": "python",
   "nbconvert_exporter": "python",
   "pygments_lexer": "ipython3",
   "version": "3.6.4"
  }
 },
 "nbformat": 4,
 "nbformat_minor": 2
}
