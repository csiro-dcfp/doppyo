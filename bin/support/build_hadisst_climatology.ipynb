{
 "cells": [
  {
   "cell_type": "markdown",
   "metadata": {},
   "source": [
    "# This notebook saves HadISST monthly climatologies in a single dataset"
   ]
  },
  {
   "cell_type": "markdown",
   "metadata": {},
   "source": [
    "#### IMPORTANT: If adapting this code to save other climatologies, be careful to only include full years, as pyLatte will compute monthly climatologies from the saved daily climatologies"
   ]
  },
  {
   "cell_type": "code",
   "execution_count": 1,
   "metadata": {},
   "outputs": [],
   "source": [
    "import pandas as pd\n",
    "import xarray as xr\n",
    "import numpy as np\n",
    "from pylatte import utils\n",
    "from ipywidgets import FloatProgress\n",
    "from dateutil.relativedelta import relativedelta"
   ]
  },
  {
   "cell_type": "markdown",
   "metadata": {},
   "source": [
    "#### HadISST dates are referenced to 0000-01-01"
   ]
  },
  {
   "cell_type": "code",
   "execution_count": 60,
   "metadata": {},
   "outputs": [],
   "source": [
    "path = '/OSM/CBR/OA_DCFP/data/observations/sst/HadISST_sst.nc'\n",
    "\n",
    "year_shift = 1970 # Year 0000 is a leap year, so is \n",
    "da = xr.open_dataset(path, autoclose=True)['sst']\n",
    "\n",
    "# da = xr.open_dataset(path, autoclose=True, decode_times=False)['sst']\n",
    "# time_units = 'days since ' + str(year_shift) + '-01-01'\n",
    "# decoded_time = xr.coding.times.decode_cf_datetime(da.time,time_units)\n",
    "# shifted_time = np.array([np.datetime64(time - relativedelta(years=year_shift)).astype('datetime64[ns]') \n",
    "#                          for time in decoded_time])\n",
    "# da.coords['time'] = ('time', utils.trunc_time(shifted_time,'M'), \n",
    "#                      {'long_name' : 'time', 'decoded_using' : time_units })\n",
    "\n",
    "time_use = da['time'][-14:-2].values"
   ]
  },
  {
   "cell_type": "code",
   "execution_count": 61,
   "metadata": {},
   "outputs": [],
   "source": [
    "da = da.where(da>-800)"
   ]
  },
  {
   "cell_type": "code",
   "execution_count": 62,
   "metadata": {},
   "outputs": [
    {
     "name": "stdout",
     "output_type": "stream",
     "text": [
      "   Elapsed: 0.21576285362243652 sec\n"
     ]
    }
   ],
   "source": [
    "da_clim = da.groupby('time.month').mean(dim='time',keep_attrs=True).compute()\n",
    "da_clim['month'] = time_use\n",
    "da_clim = da_clim.rename({'month' : 'time'})\n",
    "da_clim.time.attrs['long_name'] = 'time'\n",
    "da_clim.time.attrs['cartesian_axis'] = 'T'\n",
    "da_clim.time.attrs['calendar_type'] = 'JULIAN'\n",
    "da_clim.time.attrs['bounds'] = 'time_bounds'\n",
    "\n",
    "# Save and delete -----\n",
    "savename = 'HadISST.1870011612_2018021612.clim.nc'\n",
    "\n",
    "with utils.timer():\n",
    "    da_clim.to_netcdf(path='/OSM/CBR/OA_DCFP/data/intermediate_products/pylatte_climatologies/' + savename,\n",
    "                      mode = 'w',\n",
    "                      encoding = {'time':{'dtype':'float','calendar':'JULIAN',\n",
    "                                          'units':'days since 0001-01-01 00:00:00'}}) "
   ]
  },
  {
   "cell_type": "code",
   "execution_count": null,
   "metadata": {},
   "outputs": [],
   "source": []
  }
 ],
 "metadata": {
  "kernelspec": {
   "display_name": "Python [conda env:pylatte_env]",
   "language": "python",
   "name": "conda-env-pylatte_env-py"
  },
  "language_info": {
   "codemirror_mode": {
    "name": "ipython",
    "version": 3
   },
   "file_extension": ".py",
   "mimetype": "text/x-python",
   "name": "python",
   "nbconvert_exporter": "python",
   "pygments_lexer": "ipython3",
   "version": "3.6.4"
  }
 },
 "nbformat": 4,
 "nbformat_minor": 2
}
