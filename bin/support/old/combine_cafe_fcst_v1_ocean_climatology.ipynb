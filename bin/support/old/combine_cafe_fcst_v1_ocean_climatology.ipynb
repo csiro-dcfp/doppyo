{
 "cells": [
  {
   "cell_type": "markdown",
   "metadata": {},
   "source": [
    "# This notebook combines yearly CAFE v1 ocean daily climatologies in a single dataset"
   ]
  },
  {
   "cell_type": "code",
   "execution_count": 1,
   "metadata": {},
   "outputs": [],
   "source": [
    "import pandas as pd\n",
    "import xarray as xr\n",
    "import numpy as np\n",
    "from pylatte import utils\n",
    "from ipywidgets import FloatProgress"
   ]
  },
  {
   "cell_type": "code",
   "execution_count": 2,
   "metadata": {},
   "outputs": [],
   "source": [
    "variables = ['sst']\n",
    "years = range(2003,2016)"
   ]
  },
  {
   "cell_type": "code",
   "execution_count": 3,
   "metadata": {},
   "outputs": [],
   "source": [
    "var_list = []\n",
    "for idx, variable in enumerate(variables):\n",
    "    yr_list = []\n",
    "    for year in years:\n",
    "        fldrname = 'cafe.fcst.v1.ocean.' + str(variable) + '.' + str(year) + '.clim.nc'\n",
    "        yr_list.append('/OSM/CBR/OA_DCFP/data/intermediate_products/pylatte_climatologies/' + fldrname)\n",
    "    \n",
    "    var_list.append(xr.open_mfdataset(yr_list,concat_dim='year').mean(dim='year'))"
   ]
  },
  {
   "cell_type": "code",
   "execution_count": 4,
   "metadata": {},
   "outputs": [
    {
     "name": "stderr",
     "output_type": "stream",
     "text": [
      "/OSM/CBR/OA_DCFP/apps/squ027/anaconda3/envs/pylatte_env/lib/python3.6/site-packages/dask/array/numpy_compat.py:48: RuntimeWarning: invalid value encountered in true_divide\n",
      "  x = np.divide(x1, x2, out)\n"
     ]
    }
   ],
   "source": [
    "savename = 'cafe.fcst.v1.ocean.2003010112_2021063012.clim.nc'\n",
    "xr.merge(var_list).to_netcdf(path='/OSM/CBR/OA_DCFP/data/intermediate_products/pylatte_climatologies/' + savename,\n",
    "                                  mode = 'w') "
   ]
  },
  {
   "cell_type": "code",
   "execution_count": null,
   "metadata": {},
   "outputs": [],
   "source": []
  }
 ],
 "metadata": {
  "kernelspec": {
   "display_name": "Python [conda env:pylatte_env]",
   "language": "python",
   "name": "conda-env-pylatte_env-py"
  },
  "language_info": {
   "codemirror_mode": {
    "name": "ipython",
    "version": 3
   },
   "file_extension": ".py",
   "mimetype": "text/x-python",
   "name": "python",
   "nbconvert_exporter": "python",
   "pygments_lexer": "ipython3",
   "version": "3.6.4"
  }
 },
 "nbformat": 4,
 "nbformat_minor": 2
}
